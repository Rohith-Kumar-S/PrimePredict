{
 "cells": [
  {
   "cell_type": "code",
   "execution_count": 52,
   "id": "7762168b-9395-404f-8da9-e89f9bf4daa8",
   "metadata": {},
   "outputs": [],
   "source": [
    "import pandas as pd\n",
    "import matplotlib.pyplot as plt\n",
    "import seaborn as sns\n",
    "import gdown"
   ]
  },
  {
   "cell_type": "code",
   "execution_count": 63,
   "id": "499b2690-b1a0-4b98-81bc-115038505563",
   "metadata": {},
   "outputs": [],
   "source": [
    "def fetch_dataset(key, dataset_name):\n",
    "    cmd = !gdown --fuzzy {key} -O {dataset_name}\n",
    "    path = pd.Series(cmd).str.extractall(r'(To.*)').reset_index()[0].iloc[0].split(': ')[1]\n",
    "    return path"
   ]
  },
  {
   "cell_type": "code",
   "execution_count": 68,
   "id": "24acfd98-0287-4116-97d5-38d87a564f89",
   "metadata": {},
   "outputs": [],
   "source": [
    "path = fetch_dataset(\"1HdJj68eO9NTZlpwZcLYqdtPqrbKs1cxj\", \"amazon_purchases.csv\")"
   ]
  },
  {
   "cell_type": "code",
   "execution_count": 65,
   "id": "e080f1de-a1cc-4f8d-b2ad-92342769f092",
   "metadata": {},
   "outputs": [
    {
     "data": {
      "text/plain": [
       "'C:\\\\Users\\\\rohit\\\\5010\\\\project\\\\AmazonSalesPredictor\\\\amazon_purchases.csv'"
      ]
     },
     "execution_count": 65,
     "metadata": {},
     "output_type": "execute_result"
    }
   ],
   "source": [
    "path"
   ]
  },
  {
   "cell_type": "code",
   "execution_count": 66,
   "id": "8c119815-659f-4f4f-a53a-dfa66ed08c72",
   "metadata": {},
   "outputs": [],
   "source": [
    "df = pd.read_csv(path)"
   ]
  },
  {
   "cell_type": "code",
   "execution_count": 67,
   "id": "e7e29e80-ed0c-4ba3-b920-9e2cf6418d99",
   "metadata": {},
   "outputs": [
    {
     "data": {
      "text/html": [
       "<div>\n",
       "<style scoped>\n",
       "    .dataframe tbody tr th:only-of-type {\n",
       "        vertical-align: middle;\n",
       "    }\n",
       "\n",
       "    .dataframe tbody tr th {\n",
       "        vertical-align: top;\n",
       "    }\n",
       "\n",
       "    .dataframe thead th {\n",
       "        text-align: right;\n",
       "    }\n",
       "</style>\n",
       "<table border=\"1\" class=\"dataframe\">\n",
       "  <thead>\n",
       "    <tr style=\"text-align: right;\">\n",
       "      <th></th>\n",
       "      <th>Order Date</th>\n",
       "      <th>Purchase Price Per Unit</th>\n",
       "      <th>Quantity</th>\n",
       "      <th>Shipping Address State</th>\n",
       "      <th>Title</th>\n",
       "      <th>ASIN/ISBN (Product Code)</th>\n",
       "      <th>Category</th>\n",
       "      <th>Survey ResponseID</th>\n",
       "    </tr>\n",
       "  </thead>\n",
       "  <tbody>\n",
       "    <tr>\n",
       "      <th>0</th>\n",
       "      <td>2018-12-04</td>\n",
       "      <td>7.98</td>\n",
       "      <td>1.0</td>\n",
       "      <td>NJ</td>\n",
       "      <td>SanDisk Ultra 16GB Class 10 SDHC UHS-I Memory ...</td>\n",
       "      <td>B0143RTB1E</td>\n",
       "      <td>FLASH_MEMORY</td>\n",
       "      <td>R_01vNIayewjIIKMF</td>\n",
       "    </tr>\n",
       "    <tr>\n",
       "      <th>1</th>\n",
       "      <td>2018-12-22</td>\n",
       "      <td>13.99</td>\n",
       "      <td>1.0</td>\n",
       "      <td>NJ</td>\n",
       "      <td>Betron BS10 Earphones Wired Headphones in Ear ...</td>\n",
       "      <td>B01MA1MJ6H</td>\n",
       "      <td>HEADPHONES</td>\n",
       "      <td>R_01vNIayewjIIKMF</td>\n",
       "    </tr>\n",
       "    <tr>\n",
       "      <th>2</th>\n",
       "      <td>2018-12-24</td>\n",
       "      <td>8.99</td>\n",
       "      <td>1.0</td>\n",
       "      <td>NJ</td>\n",
       "      <td>NaN</td>\n",
       "      <td>B078JZTFN3</td>\n",
       "      <td>NaN</td>\n",
       "      <td>R_01vNIayewjIIKMF</td>\n",
       "    </tr>\n",
       "    <tr>\n",
       "      <th>3</th>\n",
       "      <td>2018-12-25</td>\n",
       "      <td>10.45</td>\n",
       "      <td>1.0</td>\n",
       "      <td>NJ</td>\n",
       "      <td>Perfecto Stainless Steel Shaving Bowl. Durable...</td>\n",
       "      <td>B06XWF9HML</td>\n",
       "      <td>DISHWARE_BOWL</td>\n",
       "      <td>R_01vNIayewjIIKMF</td>\n",
       "    </tr>\n",
       "    <tr>\n",
       "      <th>4</th>\n",
       "      <td>2018-12-25</td>\n",
       "      <td>10.00</td>\n",
       "      <td>1.0</td>\n",
       "      <td>NJ</td>\n",
       "      <td>Proraso Shaving Cream for Men</td>\n",
       "      <td>B00837ZOI0</td>\n",
       "      <td>SHAVING_AGENT</td>\n",
       "      <td>R_01vNIayewjIIKMF</td>\n",
       "    </tr>\n",
       "  </tbody>\n",
       "</table>\n",
       "</div>"
      ],
      "text/plain": [
       "   Order Date  Purchase Price Per Unit  Quantity Shipping Address State  \\\n",
       "0  2018-12-04                     7.98       1.0                     NJ   \n",
       "1  2018-12-22                    13.99       1.0                     NJ   \n",
       "2  2018-12-24                     8.99       1.0                     NJ   \n",
       "3  2018-12-25                    10.45       1.0                     NJ   \n",
       "4  2018-12-25                    10.00       1.0                     NJ   \n",
       "\n",
       "                                               Title ASIN/ISBN (Product Code)  \\\n",
       "0  SanDisk Ultra 16GB Class 10 SDHC UHS-I Memory ...               B0143RTB1E   \n",
       "1  Betron BS10 Earphones Wired Headphones in Ear ...               B01MA1MJ6H   \n",
       "2                                                NaN               B078JZTFN3   \n",
       "3  Perfecto Stainless Steel Shaving Bowl. Durable...               B06XWF9HML   \n",
       "4                      Proraso Shaving Cream for Men               B00837ZOI0   \n",
       "\n",
       "        Category  Survey ResponseID  \n",
       "0   FLASH_MEMORY  R_01vNIayewjIIKMF  \n",
       "1     HEADPHONES  R_01vNIayewjIIKMF  \n",
       "2            NaN  R_01vNIayewjIIKMF  \n",
       "3  DISHWARE_BOWL  R_01vNIayewjIIKMF  \n",
       "4  SHAVING_AGENT  R_01vNIayewjIIKMF  "
      ]
     },
     "execution_count": 67,
     "metadata": {},
     "output_type": "execute_result"
    }
   ],
   "source": [
    "df.head()"
   ]
  },
  {
   "cell_type": "code",
   "execution_count": 22,
   "id": "a7b036dc-9f69-413e-a338-3d44febe564c",
   "metadata": {},
   "outputs": [],
   "source": [
    "df['Order Date'] = pd.to_datetime(df['Order Date'])"
   ]
  },
  {
   "cell_type": "code",
   "execution_count": 23,
   "id": "8bd7ec55-ba52-4ef2-a179-82a5dc8dbaf2",
   "metadata": {},
   "outputs": [],
   "source": [
    "df['total cost'] = df['Purchase Price Per Unit']*df['Quantity']"
   ]
  },
  {
   "cell_type": "code",
   "execution_count": 33,
   "id": "dc7b5039-14d3-458d-b4ba-cae6c05d97de",
   "metadata": {
    "scrolled": true
   },
   "outputs": [],
   "source": [
    "p = df.groupby('Order Date')['total cost'].mean()"
   ]
  },
  {
   "cell_type": "code",
   "execution_count": 26,
   "id": "be7d5c68-a53d-4e73-8d0c-8c3953ada7ff",
   "metadata": {},
   "outputs": [
    {
     "data": {
      "text/plain": [
       "DatetimeIndex(['2018-01-01', '2018-01-02', '2018-01-03', '2018-01-04',\n",
       "               '2018-01-05', '2018-01-06', '2018-01-07', '2018-01-08',\n",
       "               '2018-01-09', '2018-01-10',\n",
       "               ...\n",
       "               '2023-03-19', '2023-03-20', '2023-03-21', '2023-03-22',\n",
       "               '2023-05-02', '2023-06-01', '2023-06-02', '2023-07-03',\n",
       "               '2023-09-01', '2024-08-15'],\n",
       "              dtype='datetime64[ns]', name='Order Date', length=1913, freq=None)"
      ]
     },
     "execution_count": 26,
     "metadata": {},
     "output_type": "execute_result"
    }
   ],
   "source": [
    "df.groupby('Order Date').first().index"
   ]
  },
  {
   "cell_type": "code",
   "execution_count": 35,
   "id": "38e3c180-e9b0-4ef4-ac1b-0d8e482dff9e",
   "metadata": {},
   "outputs": [
    {
     "data": {
      "text/plain": [
       "Order Date\n",
       "2018-01-01    26.386635\n",
       "2018-01-02    26.306216\n",
       "2018-01-03    23.175859\n",
       "2018-01-04    24.504271\n",
       "2018-01-05    30.767858\n",
       "                ...    \n",
       "2023-06-01    20.188000\n",
       "2023-06-02    14.990000\n",
       "2023-07-03    14.410000\n",
       "2023-09-01    19.950000\n",
       "2024-08-15     1.840000\n",
       "Name: total cost, Length: 1913, dtype: float64"
      ]
     },
     "execution_count": 35,
     "metadata": {},
     "output_type": "execute_result"
    }
   ],
   "source": [
    "p"
   ]
  },
  {
   "cell_type": "code",
   "execution_count": 34,
   "id": "0e68c9c6-dbc0-4b79-af5c-52595c3a89fc",
   "metadata": {},
   "outputs": [
    {
     "data": {
      "text/plain": [
       "<Axes: xlabel='Order Date'>"
      ]
     },
     "execution_count": 34,
     "metadata": {},
     "output_type": "execute_result"
    },
    {
     "data": {
      "image/png": "[encoded data removed]",
      "text/plain": [
       "<Figure size 640x480 with 1 Axes>"
      ]
     },
     "metadata": {},
     "output_type": "display_data"
    }
   ],
   "source": [
    "p.plot()"
   ]
  },
  {
   "cell_type": "code",
   "execution_count": 42,
   "id": "8fd5772a-c59c-4a57-b02b-df9b8aae1680",
   "metadata": {},
   "outputs": [
    {
     "data": {
      "text/plain": [
       "Survey ResponseID\n",
       "R_01vNIayewjIIKMF     4920.01\n",
       "R_037XK72IZBJyF69    17589.89\n",
       "R_038ZU6kfQ5f89fH     4247.54\n",
       "R_03aEbghUILs9NxD     3882.98\n",
       "R_06RZP9pS7kONINr    11223.70\n",
       "                       ...   \n",
       "R_zd4E1BgAdaM2761    13533.96\n",
       "R_zdLOP8JD2pe1brj     6397.19\n",
       "R_zdQYFhfeqyBd2dH     6154.57\n",
       "R_zfnsck2ZatnGtY5    10880.95\n",
       "R_zfqnsBzlOAKibzb     2688.19\n",
       "Name: total cost, Length: 5027, dtype: float64"
      ]
     },
     "execution_count": 42,
     "metadata": {},
     "output_type": "execute_result"
    }
   ],
   "source": [
    "df.groupby('Survey ResponseID')['total cost'].sum()"
   ]
  }
 ],
 "metadata": {
  "kernelspec": {
   "display_name": "Python 3 (ipykernel)",
   "language": "python",
   "name": "python3"
  },
  "language_info": {
   "codemirror_mode": {
    "name": "ipython",
    "version": 3
   },
   "file_extension": ".py",
   "mimetype": "text/x-python",
   "name": "python",
   "nbconvert_exporter": "python",
   "pygments_lexer": "ipython3",
   "version": "3.11.11"
  }
 },
 "nbformat": 4,
 "nbformat_minor": 5
}
